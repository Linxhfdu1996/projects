{
 "cells": [
  {
   "cell_type": "markdown",
   "metadata": {},
   "source": [
    "# 1. Overview"
   ]
  },
  {
   "cell_type": "markdown",
   "metadata": {},
   "source": [
    "In this project, we use a dataset containing around 10 years of daily weather observations from many locations across Australia, which is downloaded from Bureau of Meteorology, Australia. You can access it from Kaggle: <https://www.kaggle.com/jsphyg/weather-dataset-rattle-package>.\n",
    "\n",
    "Let's define one supervised learning problem and one unsupervised learning problem first:\n",
    "\n",
    "- Supervised learning: predict whether it will rain on the next day based on the weather observations of a given day (binary classification).\n",
    "\n",
    "- Unsupervised learning: cluster the observation stations (mainly cities) based on weather records.\n",
    "\n",
    "We will first explore this dataset by some visualizations, and then train 3 different supervised models and 2 different unsupervised models to deal with the above problems."
   ]
  },
  {
   "cell_type": "markdown",
   "metadata": {},
   "source": [
    "# 2. Data exploration"
   ]
  },
  {
   "cell_type": "code",
   "execution_count": 1,
   "metadata": {},
   "outputs": [],
   "source": [
    "import numpy as np\n",
    "import pandas as pd\n",
    "import matplotlib.pyplot as plt\n",
    "import seaborn as sns\n",
    "import tqdm\n",
    "import pickle"
   ]
  },
  {
   "cell_type": "markdown",
   "metadata": {},
   "source": [
    "## 2.1 Dataset general descriptions"
   ]
  },
  {
   "cell_type": "markdown",
   "metadata": {},
   "source": [
    "Firstly, we load the dataset from local device."
   ]
  },
  {
   "cell_type": "code",
   "execution_count": 2,
   "metadata": {},
   "outputs": [],
   "source": [
    "df_weather = pd.read_csv('data/weatherAUS.csv')"
   ]
  },
  {
   "cell_type": "markdown",
   "metadata": {},
   "source": [
    "Let's have a quick glance at this dataset."
   ]
  },
  {
   "cell_type": "code",
   "execution_count": 3,
   "metadata": {},
   "outputs": [
    {
     "data": {
      "text/html": [
       "<div>\n",
       "<style scoped>\n",
       "    .dataframe tbody tr th:only-of-type {\n",
       "        vertical-align: middle;\n",
       "    }\n",
       "\n",
       "    .dataframe tbody tr th {\n",
       "        vertical-align: top;\n",
       "    }\n",
       "\n",
       "    .dataframe thead th {\n",
       "        text-align: right;\n",
       "    }\n",
       "</style>\n",
       "<table border=\"1\" class=\"dataframe\">\n",
       "  <thead>\n",
       "    <tr style=\"text-align: right;\">\n",
       "      <th></th>\n",
       "      <th>Date</th>\n",
       "      <th>Location</th>\n",
       "      <th>MinTemp</th>\n",
       "      <th>MaxTemp</th>\n",
       "      <th>Rainfall</th>\n",
       "      <th>Evaporation</th>\n",
       "      <th>Sunshine</th>\n",
       "      <th>WindGustDir</th>\n",
       "      <th>WindGustSpeed</th>\n",
       "      <th>WindDir9am</th>\n",
       "      <th>...</th>\n",
       "      <th>Humidity9am</th>\n",
       "      <th>Humidity3pm</th>\n",
       "      <th>Pressure9am</th>\n",
       "      <th>Pressure3pm</th>\n",
       "      <th>Cloud9am</th>\n",
       "      <th>Cloud3pm</th>\n",
       "      <th>Temp9am</th>\n",
       "      <th>Temp3pm</th>\n",
       "      <th>RainToday</th>\n",
       "      <th>RainTomorrow</th>\n",
       "    </tr>\n",
       "  </thead>\n",
       "  <tbody>\n",
       "    <tr>\n",
       "      <th>0</th>\n",
       "      <td>2008-12-01</td>\n",
       "      <td>Albury</td>\n",
       "      <td>13.4</td>\n",
       "      <td>22.9</td>\n",
       "      <td>0.6</td>\n",
       "      <td>NaN</td>\n",
       "      <td>NaN</td>\n",
       "      <td>W</td>\n",
       "      <td>44.0</td>\n",
       "      <td>W</td>\n",
       "      <td>...</td>\n",
       "      <td>71.0</td>\n",
       "      <td>22.0</td>\n",
       "      <td>1007.7</td>\n",
       "      <td>1007.1</td>\n",
       "      <td>8.0</td>\n",
       "      <td>NaN</td>\n",
       "      <td>16.9</td>\n",
       "      <td>21.8</td>\n",
       "      <td>No</td>\n",
       "      <td>No</td>\n",
       "    </tr>\n",
       "    <tr>\n",
       "      <th>1</th>\n",
       "      <td>2008-12-02</td>\n",
       "      <td>Albury</td>\n",
       "      <td>7.4</td>\n",
       "      <td>25.1</td>\n",
       "      <td>0.0</td>\n",
       "      <td>NaN</td>\n",
       "      <td>NaN</td>\n",
       "      <td>WNW</td>\n",
       "      <td>44.0</td>\n",
       "      <td>NNW</td>\n",
       "      <td>...</td>\n",
       "      <td>44.0</td>\n",
       "      <td>25.0</td>\n",
       "      <td>1010.6</td>\n",
       "      <td>1007.8</td>\n",
       "      <td>NaN</td>\n",
       "      <td>NaN</td>\n",
       "      <td>17.2</td>\n",
       "      <td>24.3</td>\n",
       "      <td>No</td>\n",
       "      <td>No</td>\n",
       "    </tr>\n",
       "    <tr>\n",
       "      <th>2</th>\n",
       "      <td>2008-12-03</td>\n",
       "      <td>Albury</td>\n",
       "      <td>12.9</td>\n",
       "      <td>25.7</td>\n",
       "      <td>0.0</td>\n",
       "      <td>NaN</td>\n",
       "      <td>NaN</td>\n",
       "      <td>WSW</td>\n",
       "      <td>46.0</td>\n",
       "      <td>W</td>\n",
       "      <td>...</td>\n",
       "      <td>38.0</td>\n",
       "      <td>30.0</td>\n",
       "      <td>1007.6</td>\n",
       "      <td>1008.7</td>\n",
       "      <td>NaN</td>\n",
       "      <td>2.0</td>\n",
       "      <td>21.0</td>\n",
       "      <td>23.2</td>\n",
       "      <td>No</td>\n",
       "      <td>No</td>\n",
       "    </tr>\n",
       "    <tr>\n",
       "      <th>3</th>\n",
       "      <td>2008-12-04</td>\n",
       "      <td>Albury</td>\n",
       "      <td>9.2</td>\n",
       "      <td>28.0</td>\n",
       "      <td>0.0</td>\n",
       "      <td>NaN</td>\n",
       "      <td>NaN</td>\n",
       "      <td>NE</td>\n",
       "      <td>24.0</td>\n",
       "      <td>SE</td>\n",
       "      <td>...</td>\n",
       "      <td>45.0</td>\n",
       "      <td>16.0</td>\n",
       "      <td>1017.6</td>\n",
       "      <td>1012.8</td>\n",
       "      <td>NaN</td>\n",
       "      <td>NaN</td>\n",
       "      <td>18.1</td>\n",
       "      <td>26.5</td>\n",
       "      <td>No</td>\n",
       "      <td>No</td>\n",
       "    </tr>\n",
       "    <tr>\n",
       "      <th>4</th>\n",
       "      <td>2008-12-05</td>\n",
       "      <td>Albury</td>\n",
       "      <td>17.5</td>\n",
       "      <td>32.3</td>\n",
       "      <td>1.0</td>\n",
       "      <td>NaN</td>\n",
       "      <td>NaN</td>\n",
       "      <td>W</td>\n",
       "      <td>41.0</td>\n",
       "      <td>ENE</td>\n",
       "      <td>...</td>\n",
       "      <td>82.0</td>\n",
       "      <td>33.0</td>\n",
       "      <td>1010.8</td>\n",
       "      <td>1006.0</td>\n",
       "      <td>7.0</td>\n",
       "      <td>8.0</td>\n",
       "      <td>17.8</td>\n",
       "      <td>29.7</td>\n",
       "      <td>No</td>\n",
       "      <td>No</td>\n",
       "    </tr>\n",
       "  </tbody>\n",
       "</table>\n",
       "<p>5 rows × 23 columns</p>\n",
       "</div>"
      ],
      "text/plain": [
       "         Date Location  MinTemp  MaxTemp  Rainfall  Evaporation  Sunshine  \\\n",
       "0  2008-12-01   Albury     13.4     22.9       0.6          NaN       NaN   \n",
       "1  2008-12-02   Albury      7.4     25.1       0.0          NaN       NaN   \n",
       "2  2008-12-03   Albury     12.9     25.7       0.0          NaN       NaN   \n",
       "3  2008-12-04   Albury      9.2     28.0       0.0          NaN       NaN   \n",
       "4  2008-12-05   Albury     17.5     32.3       1.0          NaN       NaN   \n",
       "\n",
       "  WindGustDir  WindGustSpeed WindDir9am  ... Humidity9am  Humidity3pm  \\\n",
       "0           W           44.0          W  ...        71.0         22.0   \n",
       "1         WNW           44.0        NNW  ...        44.0         25.0   \n",
       "2         WSW           46.0          W  ...        38.0         30.0   \n",
       "3          NE           24.0         SE  ...        45.0         16.0   \n",
       "4           W           41.0        ENE  ...        82.0         33.0   \n",
       "\n",
       "   Pressure9am  Pressure3pm  Cloud9am  Cloud3pm  Temp9am  Temp3pm  RainToday  \\\n",
       "0       1007.7       1007.1       8.0       NaN     16.9     21.8         No   \n",
       "1       1010.6       1007.8       NaN       NaN     17.2     24.3         No   \n",
       "2       1007.6       1008.7       NaN       2.0     21.0     23.2         No   \n",
       "3       1017.6       1012.8       NaN       NaN     18.1     26.5         No   \n",
       "4       1010.8       1006.0       7.0       8.0     17.8     29.7         No   \n",
       "\n",
       "   RainTomorrow  \n",
       "0            No  \n",
       "1            No  \n",
       "2            No  \n",
       "3            No  \n",
       "4            No  \n",
       "\n",
       "[5 rows x 23 columns]"
      ]
     },
     "execution_count": 3,
     "metadata": {},
     "output_type": "execute_result"
    }
   ],
   "source": [
    "df_weather.head()"
   ]
  },
  {
   "cell_type": "code",
   "execution_count": 4,
   "metadata": {},
   "outputs": [
    {
     "data": {
      "text/plain": [
       "(145460, 23)"
      ]
     },
     "execution_count": 4,
     "metadata": {},
     "output_type": "execute_result"
    }
   ],
   "source": [
    "df_weather.shape"
   ]
  },
  {
   "cell_type": "code",
   "execution_count": 5,
   "metadata": {},
   "outputs": [
    {
     "data": {
      "text/plain": [
       "('2007-11-01', '2017-06-25')"
      ]
     },
     "execution_count": 5,
     "metadata": {},
     "output_type": "execute_result"
    }
   ],
   "source": [
    "# date range\n",
    "np.min(df_weather.Date), np.max(df_weather.Date)"
   ]
  },
  {
   "cell_type": "code",
   "execution_count": 6,
   "metadata": {},
   "outputs": [
    {
     "data": {
      "text/plain": [
       "count       145460\n",
       "unique          49\n",
       "top       Canberra\n",
       "freq          3436\n",
       "Name: Location, dtype: object"
      ]
     },
     "execution_count": 6,
     "metadata": {},
     "output_type": "execute_result"
    }
   ],
   "source": [
    "# description of \"Location\" column\n",
    "df_weather.Location.describe()"
   ]
  },
  {
   "cell_type": "markdown",
   "metadata": {},
   "source": [
    "This dataset contains **145,460** records, and **23** columns. The observation date is recorded in the first column, and the second column represents where the observation station is located. The date range from **December 1, 2008** to **June 25, 2017**. There are **49** different observation stations in this dataset, where the capital -- **Canberra** is the most frequent one.\n",
    "\n",
    "The corresponding weather conditions are recorded in the 3rd to 21st columns. To notice that some columns contain so many empty values, so we must take measures to deal with this issue when data preprocessing. And the last two columns are boolean variables, which show whether it rains on the given day, and whether it will rain on the next day, respectively.\n",
    "\n"
   ]
  },
  {
   "cell_type": "markdown",
   "metadata": {},
   "source": [
    "## 2.2 Visualizations"
   ]
  },
  {
   "cell_type": "markdown",
   "metadata": {},
   "source": [
    "Let's make some plots to understand this dataset better."
   ]
  },
  {
   "cell_type": "markdown",
   "metadata": {},
   "source": [
    "### 2.2.1 Frequency of rain"
   ]
  },
  {
   "cell_type": "markdown",
   "metadata": {},
   "source": [
    "We would like to know what frequencies of rain are in different observation locations. Let's make a bar plot."
   ]
  },
  {
   "cell_type": "code",
   "execution_count": 7,
   "metadata": {},
   "outputs": [],
   "source": [
    "# convert \"RainToday\" and \"RainTomorrow\" columns into boolean format\n",
    "# Rain tomorrow -- 1\n",
    "# Not rain tomorrow -- 0\n",
    "df_weather.RainToday = df_weather.RainToday.apply(lambda x: 1 if x == 'Yes' else 0)\n",
    "df_weather.RainTomorrow = df_weather.RainTomorrow.apply(lambda x: 1 if x == 'Yes' else 0)"
   ]
  },
  {
   "cell_type": "code",
   "execution_count": 8,
   "metadata": {},
   "outputs": [],
   "source": [
    "# calculate probability of rain for each observation location, and sort by descending values\n",
    "gb = df_weather[['Location', 'RainToday']].groupby('Location')\n",
    "P_r = (gb.apply(np.sum)['RainToday'] / gb.apply(len)).sort_values(ascending=False)"
   ]
  },
  {
   "cell_type": "code",
   "execution_count": 9,
   "metadata": {},
   "outputs": [
    {
     "data": {
      "image/png": "[encoded data removed]",
      "text/plain": [
       "<Figure size 1296x288 with 1 Axes>"
      ]
     },
     "metadata": {
      "needs_background": "light"
     },
     "output_type": "display_data"
    }
   ],
   "source": [
    "plt.figure(figsize=(18,4))\n",
    "P_r.plot(kind='bar', rot=70, width = 0.75)\n",
    "# plot average line\n",
    "plt.hlines(sum(df_weather.RainToday)/len(df_weather), -1, 49, color = 'r', linestyles = ':')\n",
    "plt.title('Frequencies of Rain in Different Locations, 2007-2017');"
   ]
  },
  {
   "cell_type": "markdown",
   "metadata": {},
   "source": [
    "It can be found that the frequency of rain in **Portland** is the highest, while the frequency in **Woomera** is the lowest. The red dotted line represents the frequency of rain for Australia as a whole."
   ]
  },
  {
   "cell_type": "markdown",
   "metadata": {},
   "source": [
    "### 2.2.2 Rain vs. Time"
   ]
  },
  {
   "cell_type": "markdown",
   "metadata": {},
   "source": [
    "The size of rainfall significantly depends on the season. Let's use data from 2014 to 2016, to analyze the effect seasonality."
   ]
  },
  {
   "cell_type": "code",
   "execution_count": 10,
   "metadata": {},
   "outputs": [],
   "source": [
    "# split the text of date into year, month, and day\n",
    "df_weather['Year'] = df_weather.Date.apply(lambda x: int(x[:4]))\n",
    "df_weather['Month'] = df_weather.Date.apply(lambda x: int(x[5:7]))\n",
    "df_weather['Day'] = df_weather.Date.apply(lambda x: int(x[8:]))"
   ]
  },
  {
   "cell_type": "code",
   "execution_count": 11,
   "metadata": {
    "collapsed": true
   },
   "outputs": [
    {
     "name": "stderr",
     "output_type": "stream",
     "text": [
      "E:\\Anaconda\\lib\\site-packages\\numpy\\core\\fromnumeric.py:3438: FutureWarning: Dropping of nuisance columns in DataFrame reductions (with 'numeric_only=None') is deprecated; in a future version this will raise TypeError.  Select only valid columns before calling the reduction.\n",
      "  return mean(axis=axis, dtype=dtype, out=out, **kwargs)\n"
     ]
    }
   ],
   "source": [
    "# calculate monthly rainfall for each location\n",
    "df_rain_lc = df_weather[['Location', 'Year', 'Month', 'Rainfall']].groupby(['Location', 'Year', 'Month']).apply(sum)['Rainfall'].reset_index()\n",
    "\n",
    "# calculate average rainfall for each month\n",
    "df_rain_month = df_rain_lc.groupby(['Year', 'Month']).apply(np.mean)['Rainfall'][49:-6].reset_index()"
   ]
  },
  {
   "cell_type": "code",
   "execution_count": 12,
   "metadata": {},
   "outputs": [
    {
     "data": {
      "image/png": "[encoded data removed]",
      "text/plain": [
       "<Figure size 648x288 with 1 Axes>"
      ]
     },
     "metadata": {
      "needs_background": "light"
     },
     "output_type": "display_data"
    }
   ],
   "source": [
    "plt.figure(figsize=(9,4))\n",
    "color_dict = {2016:(1, 0, 0), 2015:(1, 0.4, 0.4), 2014:(1, 0.8, 0.8)}\n",
    "plot_list = []\n",
    "\n",
    "for i in (2014, 2015, 2016):\n",
    "    df_rain_month_i = df_rain_month[df_rain_month.Year == i]\n",
    "    plot_list.append(plt.plot(df_rain_month_i.Month, df_rain_month_i.Rainfall, c = color_dict[i]))\n",
    "\n",
    "plt.xticks(range(1, 13))\n",
    "plt.xlabel('Month')\n",
    "plt.ylabel('Rainfall (mm)')\n",
    "plt.legend(('2014', '2015', '2016'));"
   ]
  },
  {
   "cell_type": "markdown",
   "metadata": {},
   "source": [
    "We first calculate the total rainfall for each of 49 locations in each of 36 months from Jan 2014 to Dec 2016. And then, we take the average of them. We make 3 line plots for Year 2014, 2015 and 2016, respectively. The y-axis represents the rainfall in millimeters. It is difficult to tell a obvious pattern from the plot, except that the rainfall in the first half of the year is slightly higher than the second half. "
   ]
  },
  {
   "cell_type": "markdown",
   "metadata": {},
   "source": [
    "### 2.2.3 Correlation plot"
   ]
  },
  {
   "cell_type": "markdown",
   "metadata": {},
   "source": [
    "In this part, we want to know what are the correlations between the features we might use in machine learning part, and whether it would rain tomorrow or not. Let's use a heatmap here."
   ]
  },
  {
   "cell_type": "code",
   "execution_count": 13,
   "metadata": {},
   "outputs": [
    {
     "data": {
      "image/png": "[encoded data removed]",
      "text/plain": [
       "<Figure size 936x576 with 2 Axes>"
      ]
     },
     "metadata": {},
     "output_type": "display_data"
    }
   ],
   "source": [
    "sns.set(style = \"white\")\n",
    "cor_matrix = df_weather.iloc[:,:-3].corr()\n",
    "\n",
    "# Generate a mask for the upper triangle\n",
    "mask = np.triu(np.ones_like(cor_matrix, dtype = bool))\n",
    "\n",
    "plt.figure(figsize = (13,8))\n",
    "\n",
    "# Generate a customized divergingcolormap\n",
    "cmap = sns.diverging_palette(20, -150, as_cmap = True)\n",
    "\n",
    "fig4 = sns.heatmap(cor_matrix, mask = mask, cmap = cmap, center = 0,\n",
    "            square = True, linewidths = .5, cbar_kws = {\"shrink\": .5})"
   ]
  },
  {
   "cell_type": "markdown",
   "metadata": {},
   "source": [
    "It seems that `RainTomorrow` label is relatively highly correlated to the humidity, pressure and cloud condition *especially at 3 pm*, and the sunshine and rainfall as well. It gives us a preliminary understanding of the importance of each feature before stepping into machine learning part. Besides, we can roughly know the correlations between each pair of the features from the plot as well, which may give us some inspirations when we dealing with multicollinearity issues."
   ]
  },
  {
   "cell_type": "markdown",
   "metadata": {},
   "source": [
    "# 3. Supervised learning"
   ]
  },
  {
   "cell_type": "markdown",
   "metadata": {},
   "source": [
    "Let's restate the supervised learning problem again:\n",
    "\n",
    "> For this task, we predict whether it will rain on the next day based on the weather observations of a given day. So, it is a **binary classification** problem."
   ]
  },
  {
   "cell_type": "markdown",
   "metadata": {},
   "source": [
    "## 3.1 Data preprocessing"
   ]
  },
  {
   "cell_type": "code",
   "execution_count": 14,
   "metadata": {},
   "outputs": [],
   "source": [
    "from sklearn.preprocessing import LabelEncoder, OneHotEncoder, StandardScaler\n",
    "from sklearn.linear_model import LogisticRegression\n",
    "from sklearn.ensemble import GradientBoostingClassifier, RandomForestClassifier\n",
    "from sklearn.model_selection import GridSearchCV, train_test_split\n",
    "from sklearn.metrics import classification_report"
   ]
  },
  {
   "cell_type": "markdown",
   "metadata": {},
   "source": [
    "### 3.1.1 Feautre engineering"
   ]
  },
  {
   "cell_type": "markdown",
   "metadata": {},
   "source": [
    "In this part, we are going to do some feature engineering. The main purpose is to make our features more effective before we input them into our models. "
   ]
  },
  {
   "cell_type": "code",
   "execution_count": 15,
   "metadata": {},
   "outputs": [],
   "source": [
    "# drop \"Evaporation\", \"Sunshine\", \"Cloud9am\", \"Cloud3pm\" -- columns with too many NaN values\n",
    "# drop \"RainToday\" -- already included in \"Rainfall\"\n",
    "# drop \"Day\", \"Date\" -- high risk of overfitting\n",
    "df_weather_dropcl = df_weather.drop(columns = ['Evaporation', 'Sunshine', 'Cloud9am', 'Cloud3pm', 'RainToday', 'Day', 'Date'])"
   ]
  },
  {
   "cell_type": "code",
   "execution_count": 16,
   "metadata": {},
   "outputs": [],
   "source": [
    "# drop records with NaN values\n",
    "df_weather_dropna = df_weather_dropcl.dropna()"
   ]
  },
  {
   "cell_type": "markdown",
   "metadata": {},
   "source": [
    "Now, we deal with nominal and numerical data seperately. We use two encoders, one-hot and label encoders, to deal with nominal data."
   ]
  },
  {
   "cell_type": "code",
   "execution_count": 17,
   "metadata": {},
   "outputs": [],
   "source": [
    "# use one-hot encoding to encode \"Location\"\n",
    "onehot_columns = ['Location']\n",
    "ohe = OneHotEncoder(sparse=False)\n",
    "Loc_onehot = ohe.fit_transform(df_weather_dropna[onehot_columns])"
   ]
  },
  {
   "cell_type": "code",
   "execution_count": 18,
   "metadata": {},
   "outputs": [],
   "source": [
    "# use label encoding to encode following 3 columns\n",
    "label_columns = ['WindGustDir', 'WindDir9am', 'WindDir3pm']\n",
    "le = LabelEncoder()\n",
    "le.fit(df_weather_dropna.WindGustDir.unique())\n",
    "\n",
    "WindGustDir = le.transform(df_weather_dropna[label_columns[0]])\n",
    "WindDir9am = le.transform(df_weather_dropna[label_columns[1]])\n",
    "WindDir3pm = le.transform(df_weather_dropna[label_columns[2]])"
   ]
  },
  {
   "cell_type": "code",
   "execution_count": 19,
   "metadata": {},
   "outputs": [],
   "source": [
    "# deal with numerical data\n",
    "df_weather_num = df_weather_dropna.drop(columns = onehot_columns + label_columns)\n",
    "\n",
    "# create some columns that might be useful\n",
    "df_weather_num['TempRange'] = df_weather_num.MaxTemp - df_weather_num.MinTemp\n",
    "df_weather_num['TempChange'] = df_weather_num.Temp3pm - df_weather_num.Temp9am\n",
    "df_weather_num['PresChange'] = df_weather_num.Pressure3pm - df_weather_num.Pressure9am\n",
    "df_weather_num['HumidChange'] = df_weather_num.Humidity3pm - df_weather_num.Humidity9am"
   ]
  },
  {
   "cell_type": "markdown",
   "metadata": {},
   "source": [
    "### 3.1.2 Train and test set preparation"
   ]
  },
  {
   "cell_type": "code",
   "execution_count": 20,
   "metadata": {},
   "outputs": [],
   "source": [
    "# stack above generated datasets together\n",
    "X = np.hstack([np.array(df_weather_num.drop(columns = 'RainTomorrow')), Loc_onehot,\\\n",
    "               WindGustDir.reshape(-1,1), WindDir9am.reshape(-1,1), WindDir3pm.reshape(-1,1)])\n",
    "y = df_weather_num['RainTomorrow']"
   ]
  },
  {
   "cell_type": "code",
   "execution_count": 21,
   "metadata": {},
   "outputs": [],
   "source": [
    "# train test split\n",
    "X_train, X_test, y_train, y_test = train_test_split(X, y, test_size=0.1, \\\n",
    "                                                    random_state=1234, stratify=df_weather_dropna.Location)"
   ]
  },
  {
   "cell_type": "code",
   "execution_count": 22,
   "metadata": {},
   "outputs": [],
   "source": [
    "# standardization\n",
    "ss = StandardScaler()\n",
    "X_train = ss.fit_transform(X_train)\n",
    "X_test = ss.transform(X_test)"
   ]
  },
  {
   "cell_type": "markdown",
   "metadata": {},
   "source": [
    "### 3.1.3 Metrics"
   ]
  },
  {
   "cell_type": "markdown",
   "metadata": {},
   "source": [
    "Before we start, let's build two benchmark classifiers. \n",
    "\n",
    "1. We predict all samples as `Not rain tomorrow`\n",
    "\n",
    "2. We use `Rain today` to predict `Rain tomorrow`: if it rains today, then we anticipates it will rain tomorrow, vice versa.\n",
    "\n",
    "Since it's a binary classification problem, we use two metrics: **accuracy** and **weighted average F1-score**. Let's try above two benchmarks first."
   ]
  },
  {
   "cell_type": "code",
   "execution_count": 23,
   "metadata": {},
   "outputs": [
    {
     "name": "stdout",
     "output_type": "stream",
     "text": [
      "              precision    recall  f1-score   support\n",
      "\n",
      "           0      0.780     1.000     0.876     88660\n",
      "           1      0.000     0.000     0.000     25019\n",
      "\n",
      "    accuracy                          0.780    113679\n",
      "   macro avg      0.390     0.500     0.438    113679\n",
      "weighted avg      0.608     0.780     0.683    113679\n",
      "\n"
     ]
    }
   ],
   "source": [
    "# Benchmark 1\n",
    "print(classification_report(df_weather_dropna.RainTomorrow, df_weather_dropna.RainTomorrow.apply(lambda x : 0), digits=3, zero_division=0))"
   ]
  },
  {
   "cell_type": "code",
   "execution_count": 24,
   "metadata": {},
   "outputs": [
    {
     "name": "stdout",
     "output_type": "stream",
     "text": [
      "              precision    recall  f1-score   support\n",
      "\n",
      "           0      0.872     0.720     0.789     88660\n",
      "           1      0.387     0.626     0.478     25019\n",
      "\n",
      "    accuracy                          0.699    113679\n",
      "   macro avg      0.629     0.673     0.633    113679\n",
      "weighted avg      0.765     0.699     0.720    113679\n",
      "\n"
     ]
    }
   ],
   "source": [
    "# Benchmark 2\n",
    "print(classification_report(df_weather_dropna.RainTomorrow, \\\n",
    "                            df_weather_dropna.Rainfall.apply(lambda x : 1 if x > 0 else 0), digits=3))"
   ]
  },
  {
   "cell_type": "markdown",
   "metadata": {},
   "source": [
    "To summarize:\n",
    "\n",
    ">1. Benchmark 1 -- Accuracy: **0.780**; weighted average F1-score: **0.683**.\n",
    ">\n",
    ">2. Benchmark 2 -- Accuracy: **0.699**; weighted average F1-score: **0.720**.\n",
    "\n",
    "Let's see how much our supervised models can improve these results."
   ]
  },
  {
   "cell_type": "markdown",
   "metadata": {},
   "source": [
    "## 3.2 Logistic regression"
   ]
  },
  {
   "cell_type": "markdown",
   "metadata": {},
   "source": [
    "Logistic regression is a traditional method for binary classification. We use grid search method for all supervised models.\n",
    "\n",
    "Cross validation is also applied here. We use the default setting -- number of folds equal to 5. For the remaining part of supervised learning, the model selection methods are quite similar.\n",
    "\n",
    "For logistic regression, we search for the best `C` -- the penalty term of L2 regularization. Our candidates range from **10e-6** to **10e3**."
   ]
  },
  {
   "cell_type": "code",
   "execution_count": 25,
   "metadata": {},
   "outputs": [
    {
     "name": "stdout",
     "output_type": "stream",
     "text": [
      "Fitting 5 folds for each of 10 candidates, totalling 50 fits\n"
     ]
    },
    {
     "name": "stderr",
     "output_type": "stream",
     "text": [
      "[Parallel(n_jobs=20)]: Using backend LokyBackend with 20 concurrent workers.\n",
      "[Parallel(n_jobs=20)]: Done  24 out of  50 | elapsed:   13.4s remaining:   14.6s\n",
      "[Parallel(n_jobs=20)]: Done  37 out of  50 | elapsed:   18.0s remaining:    6.3s\n",
      "[Parallel(n_jobs=20)]: Done  50 out of  50 | elapsed:   18.9s remaining:    0.0s\n",
      "[Parallel(n_jobs=20)]: Done  50 out of  50 | elapsed:   18.9s finished\n"
     ]
    }
   ],
   "source": [
    "# grid search\n",
    "C_list = np.power(10, np.arange(-6, 4) / 1)\n",
    "parameters = {'C': C_list}\n",
    "\n",
    "lr = LogisticRegression(penalty='l2')\n",
    "lr_gs = GridSearchCV(lr, parameters, verbose = 4, n_jobs=20)\n",
    "lr_gs.fit(X_train, y_train);"
   ]
  },
  {
   "cell_type": "code",
   "execution_count": 26,
   "metadata": {},
   "outputs": [
    {
     "data": {
      "text/plain": [
       "LogisticRegression(C=10.0)"
      ]
     },
     "execution_count": 26,
     "metadata": {},
     "output_type": "execute_result"
    },
    {
     "data": {
      "image/png": "[encoded data removed]",
      "text/plain": [
       "<Figure size 432x288 with 1 Axes>"
      ]
     },
     "metadata": {},
     "output_type": "display_data"
    }
   ],
   "source": [
    "# plot logarithm of C vs. cross validation accuracy\n",
    "plt.plot(np.arange(-6, 4), lr_gs.cv_results_['mean_test_score'])\n",
    "plt.xticks(np.arange(-6, 4))\n",
    "plt.xlabel('log (C)')\n",
    "plt.ylabel('CV accuracy')\n",
    "plt.title('Grid Search for Logistic Regression', pad=5)\n",
    "\n",
    "# What's the best C?\n",
    "lr_gs.best_estimator_"
   ]
  },
  {
   "cell_type": "markdown",
   "metadata": {},
   "source": [
    "We can see from the plot that CV accuracy increases as log C increases at the beginning, and then the accuracy doesn't change too much as log C goes positive. By calculation, we find that it returns the highest CV score when log C equals 1 (i.e. C equals 10). Then we use corresponding model for prediction."
   ]
  },
  {
   "cell_type": "code",
   "execution_count": 27,
   "metadata": {},
   "outputs": [
    {
     "name": "stdout",
     "output_type": "stream",
     "text": [
      "              precision    recall  f1-score   support\n",
      "\n",
      "           0      0.881     0.953     0.915      8986\n",
      "           1      0.742     0.514     0.608      2382\n",
      "\n",
      "    accuracy                          0.861     11368\n",
      "   macro avg      0.812     0.733     0.762     11368\n",
      "weighted avg      0.852     0.861     0.851     11368\n",
      "\n"
     ]
    }
   ],
   "source": [
    "print(classification_report(y_test, lr_gs.predict(X_test), digits=3))"
   ]
  },
  {
   "cell_type": "markdown",
   "metadata": {},
   "source": [
    "The logistic regression model gives us an accuracy of **0.861**, and an F1-score of **0.851**. Both of them are higher than the benchmarks. Let's see how other two models perform first."
   ]
  },
  {
   "cell_type": "markdown",
   "metadata": {},
   "source": [
    "## 3.3 Gradient boosting decision tree (GBDT)"
   ]
  },
  {
   "cell_type": "markdown",
   "metadata": {},
   "source": [
    "GBDT is an ensemble model which aims to reduce bias. Similarly, we use grid search here, to search for the best number of estimators (decision trees). Our candidates range from **100** to **200**."
   ]
  },
  {
   "cell_type": "code",
   "execution_count": 28,
   "metadata": {
    "scrolled": true
   },
   "outputs": [],
   "source": [
    "# The model training was time-consuming, so we save the model locally.\n",
    "\n",
    "# # Grid search for best \"n_estimators\"\n",
    "# parameters = {'n_estimators':list(range(100, 210, 10))}\n",
    "# gb = GradientBoostingClassifier(random_state=1234)\n",
    "\n",
    "# gb_gs = GridSearchCV(gb, parameters, verbose = 4, n_jobs=20)\n",
    "# gb_gs.fit(X_train, y_train);\n",
    "\n",
    "# # save the model\n",
    "# pickle.dump(gb_gs, open('saved_models/gbdt_model.sav', 'wb'))"
   ]
  },
  {
   "cell_type": "code",
   "execution_count": 29,
   "metadata": {},
   "outputs": [],
   "source": [
    "# load the model from disk\n",
    "gb_gs = pickle.load(open('saved_models/gbdt_model.sav', 'rb'))"
   ]
  },
  {
   "cell_type": "code",
   "execution_count": 30,
   "metadata": {},
   "outputs": [
    {
     "data": {
      "text/plain": [
       "GradientBoostingClassifier(n_estimators=200, random_state=1234)"
      ]
     },
     "execution_count": 30,
     "metadata": {},
     "output_type": "execute_result"
    },
    {
     "data": {
      "image/png": "[encoded data removed]",
      "text/plain": [
       "<Figure size 432x288 with 1 Axes>"
      ]
     },
     "metadata": {},
     "output_type": "display_data"
    }
   ],
   "source": [
    "# plot number of estimators vs. cross validation accuracy\n",
    "plt.plot(np.arange(100, 210, 10), gb_gs.cv_results_['mean_test_score'])\n",
    "plt.yticks([0.85, 0.852, 0.854, 0.856, 0.858, 0.86])\n",
    "plt.xlabel('number of estimators')\n",
    "plt.ylabel('CV accuracy')\n",
    "plt.title('Grid Search for GBDT', pad=5)\n",
    "\n",
    "# What's the best number?\n",
    "gb_gs.best_estimator_"
   ]
  },
  {
   "cell_type": "markdown",
   "metadata": {},
   "source": [
    "We see from the plot that the CV accuracy **increases strictly** as the number of estimators goes up, though it doesn't change too much (between 0.855 to 0.859). Although the performance might still get better as the number of estimators goes beyond 200, it requires too many computing resources. Hence, we choose the model with the number of estimators equal to 200 as the best one."
   ]
  },
  {
   "cell_type": "code",
   "execution_count": 31,
   "metadata": {},
   "outputs": [
    {
     "name": "stdout",
     "output_type": "stream",
     "text": [
      "              precision    recall  f1-score   support\n",
      "\n",
      "           0      0.885     0.955     0.919      8986\n",
      "           1      0.759     0.531     0.625      2382\n",
      "\n",
      "    accuracy                          0.866     11368\n",
      "   macro avg      0.822     0.743     0.772     11368\n",
      "weighted avg      0.859     0.866     0.857     11368\n",
      "\n"
     ]
    }
   ],
   "source": [
    "print(classification_report(y_test, gb_gs.predict(X_test), digits=3))"
   ]
  },
  {
   "cell_type": "markdown",
   "metadata": {},
   "source": [
    "The GBDT model gives us an accuracy of **0.866**, and an F1-score of **0.857**, which are slightly higher than the simpler model -- logistic regression model. Let's see another ensemble model next."
   ]
  },
  {
   "cell_type": "markdown",
   "metadata": {},
   "source": [
    "## 3.4 Random forest"
   ]
  },
  {
   "cell_type": "markdown",
   "metadata": {},
   "source": [
    "Random forest is another ensemble model, which belongs to bagging. Different from boosting, it aims to reduce the variance. Similarly, we use grid search here, to search for the best number of estimators (decision trees). Our candidates also range from **100** to **200**."
   ]
  },
  {
   "cell_type": "code",
   "execution_count": 32,
   "metadata": {},
   "outputs": [],
   "source": [
    "# The model training was time-consuming, so we save the model locally.\n",
    "\n",
    "# # Grid search for best \"n_estimators\"\n",
    "# parameters = {'n_estimators':list(range(100, 210, 10))}\n",
    "# rfc = RandomForestClassifier(random_state=1234)\n",
    "\n",
    "# rf_gs = GridSearchCV(rfc, parameters, verbose = 4, n_jobs=20)\n",
    "# rf_gs.fit(X_train, y_train);\n",
    "\n",
    "# # save the model\n",
    "# pickle.dump(rf_gs, open('saved_models/random_forest_model.sav', 'wb'))"
   ]
  },
  {
   "cell_type": "code",
   "execution_count": 33,
   "metadata": {},
   "outputs": [],
   "source": [
    "# load the model from disk\n",
    "rf_gs = pickle.load(open('saved_models/random_forest_model.sav', 'rb'))"
   ]
  },
  {
   "cell_type": "code",
   "execution_count": 34,
   "metadata": {
    "scrolled": false
   },
   "outputs": [
    {
     "data": {
      "text/plain": [
       "RandomForestClassifier(n_estimators=160, random_state=1234)"
      ]
     },
     "execution_count": 34,
     "metadata": {},
     "output_type": "execute_result"
    },
    {
     "data": {
      "image/png": "[encoded data removed]",
      "text/plain": [
       "<Figure size 432x288 with 1 Axes>"
      ]
     },
     "metadata": {},
     "output_type": "display_data"
    }
   ],
   "source": [
    "# plot number of estimators vs. cross validation accuracy\n",
    "plt.plot(np.arange(100, 210, 10), rf_gs.cv_results_['mean_test_score'])\n",
    "plt.yticks([0.85, 0.852, 0.854, 0.856, 0.858, 0.86])\n",
    "plt.xlabel('number of estimators')\n",
    "plt.ylabel('CV accuracy')\n",
    "plt.title('Grid Search for Random Forest', pad=5)\n",
    "\n",
    "# What's the best number?\n",
    "rf_gs.best_estimator_"
   ]
  },
  {
   "cell_type": "markdown",
   "metadata": {},
   "source": [
    "The plot does not show a clear trend of CV accuracy against the number of estimators. The accuracy seems to **vibrate randomly** between 0.857 to 0.859 as the number of estimators increases, though it seems that the best hyperparameter might lie between 100 to 200. We use the model with the number of estimators equal to 160, which gives the highest CV score, for testing.  "
   ]
  },
  {
   "cell_type": "code",
   "execution_count": 35,
   "metadata": {
    "scrolled": true
   },
   "outputs": [
    {
     "name": "stdout",
     "output_type": "stream",
     "text": [
      "              precision    recall  f1-score   support\n",
      "\n",
      "           0      0.882     0.961     0.920      8986\n",
      "           1      0.778     0.513     0.618      2382\n",
      "\n",
      "    accuracy                          0.867     11368\n",
      "   macro avg      0.830     0.737     0.769     11368\n",
      "weighted avg      0.860     0.867     0.856     11368\n",
      "\n"
     ]
    }
   ],
   "source": [
    "print(classification_report(y_test, rf_gs.predict(X_test), digits=3))"
   ]
  },
  {
   "cell_type": "markdown",
   "metadata": {},
   "source": [
    "The randon forest model gives us an accuracy of **0.867**, and an F1-score of **0.856**, which are nearly the same as GBDT model. "
   ]
  },
  {
   "cell_type": "markdown",
   "metadata": {},
   "source": [
    "## 3.5 Summary and further analysis"
   ]
  },
  {
   "cell_type": "markdown",
   "metadata": {},
   "source": [
    "Let's summarize the performances of the above 3 supervised learning models."
   ]
  },
  {
   "cell_type": "markdown",
   "metadata": {},
   "source": [
    "| Model name | Test accuracy | Test F1-score | Average CV time (s) |\n",
    "| :---------- | ------------- | ------------- | ------- |\n",
    "| Benchmark 1 | 0.780 | 0.683 | / | / |\n",
    "| Benchmark 2 | 0.699 | 0.720 | / | / |\n",
    "| Logistic regression | 0.861 | 0.851 | **1** |\n",
    "| GBDT | 0.866 | **0.857** | 129 |\n",
    "| Random forest | **0.867** | 0.856 | 63 |\n",
    "\n",
    "* Notes: Average CV time means the average time needed to run a 5-fold cross validation for one hyperparameter setting.\n",
    "\n",
    ">In conclusion, the three models show similar results. Hence, considering running time, **logistic regression** is good enough to explain this dataset.\n",
    "\n",
    "Let's look into the weights in the logistic regression model, and see how this model make decisions."
   ]
  },
  {
   "cell_type": "code",
   "execution_count": 36,
   "metadata": {},
   "outputs": [],
   "source": [
    "# train logistic regression model with C equal to 10\n",
    "lr_c10 = LogisticRegression(penalty='l2', C=10)\n",
    "lr_c10.fit(X_train, y_train);"
   ]
  },
  {
   "cell_type": "code",
   "execution_count": 37,
   "metadata": {},
   "outputs": [
    {
     "name": "stdout",
     "output_type": "stream",
     "text": [
      "Humidity3pm: 0.909\n",
      "WindGustSpeed: 0.898\n",
      "Humidity9am: 0.658\n",
      "HumidChange: 0.406\n",
      "PresChange: -0.406\n"
     ]
    }
   ],
   "source": [
    "# get feature names with top-5 highest absolute weights\n",
    "ranked_list = np.abs(lr_c10.coef_).argsort()[0][::-1]\n",
    "top5_weights = lr_c10.coef_[0][ranked_list[:5]]\n",
    "top5_features = df_weather_num.drop(columns = 'RainTomorrow').columns[ranked_list[:5]]\n",
    "pair_lst = [(top5_features[i], top5_weights[i]) for i in range(5)]\n",
    "\n",
    "for i in range(5):\n",
    "    print(f'{pair_lst[i][0]}: {pair_lst[i][1]:.3f}')"
   ]
  },
  {
   "cell_type": "markdown",
   "metadata": {},
   "source": [
    "The logistic regression model learns that the rainfall next day might be highly positively related to:\n",
    "- Humidity today (9 am and 3 pm);\n",
    "- The degree of humidity change during the day (i.e. the more humidity incresed during today, the higher possibility of rain tomorrow);\n",
    "- Wind speed.\n",
    "\n",
    "And it might be highly negatively related to:\n",
    "- The degree of pressure change during the day (i.e. the more pressure decresed during today, the higher possibility of rain tomorrow).\n",
    "\n",
    "These results make sense from the meteorological perspective, which explains the effectiveness of the logistic model. "
   ]
  },
  {
   "cell_type": "markdown",
   "metadata": {},
   "source": [
    "# 4. Unsupervised learning"
   ]
  },
  {
   "cell_type": "markdown",
   "metadata": {},
   "source": [
    "As shown in public resources, Australia can be roughly divided into **6 states** and **2 territories**. The table below shows the 49 observation stations and their corresponding state or territory:\n",
    "\n",
    "| State/Territory | Postal | Cities/Regions | Counts |\n",
    "| :---- | :---- | :---- | ----: |\n",
    "| New South Wales | NSW | Albury, Badgerys Creek, Cobar, Coffs Harbour,\tMoree, Newcastle, Norah Head, Norfolk Island, Penrith, Richmond, Sydney, Sydney Airport, Wagga Wagga, Williamtown, Wollongong | 15 |\n",
    "| Victoria | VIC | Ballarat, Bendigo, Sale, Melbourne Airport, Melbourne, Mildura, Nhil, Portland, Watsonia, Dartmoor | 10 |\n",
    "| Western Australia | WA | Albany, Witchcliffe, Pearce RAAF, Perth Airport, Perth, Salmon Gums, Walpole | 7 |\n",
    "| Queensland | QLD | Brisbane, Cairns, Gold Coast, Townsville | 4 |\n",
    "| Southern Australia | SA | Adelaide, Mount Gambier, Nuriootpa, Woomera | 4 |\n",
    "| Northern Territory | NT | AliceSprings, Darwin, Katherine, Uluru | 4 |\n",
    "| * Australian Capital Territory | ACT | Canberra, Tuggeranong, Mount Ginini| 3 |\n",
    "| Tasmania | TAS | Hobart, Launceston| 2 |\n",
    "| **Total Counts** | | | **49** |"
   ]
  },
  {
   "cell_type": "markdown",
   "metadata": {},
   "source": [
    "*Notes: Australian Capital Territory is geometrically inside New South Wales, it's easy to believe that the weather might be similar in these two areas. So we might treat them as the same division.*\n",
    "\n",
    "Theoretically, the stations in the same state or territory might have similar weather records. Hence, we want to know if we  cluster those observation stations based on their weather records, can we get a result similar to the divisions above? Then the unsupervised learning problem can be defined as:\n",
    "\n",
    "> **Cluster** the 49 stations based on their observations.\n",
    "\n",
    "We will use 2 metrics to determine the best number of clusters:\n",
    "\n",
    "1. **Adjusted Rand score**, if we assume that the division above is the true label that we want to compare;\n",
    "\n",
    "2. **Silhouette score**, if we assume that we do not know the true label."
   ]
  },
  {
   "cell_type": "code",
   "execution_count": 38,
   "metadata": {},
   "outputs": [],
   "source": [
    "from sklearn.cluster import KMeans, AgglomerativeClustering\n",
    "from sklearn.metrics import silhouette_score, adjusted_rand_score"
   ]
  },
  {
   "cell_type": "markdown",
   "metadata": {},
   "source": [
    "## 4.1 Data preprocessing"
   ]
  },
  {
   "cell_type": "markdown",
   "metadata": {},
   "source": [
    "Again, we need to deal with features first. At this time, we keep less number of features (all numerical features) that might be useful for this clustering problem."
   ]
  },
  {
   "cell_type": "code",
   "execution_count": 39,
   "metadata": {},
   "outputs": [],
   "source": [
    "df_weather_clust = df_weather.copy()\n",
    "\n",
    "# create features that would be used in clustering\n",
    "df_weather_clust['TempRange'] = df_weather_clust.MaxTemp - df_weather_clust.MinTemp\n",
    "df_weather_clust['TempChange'] = df_weather_clust.Temp3pm - df_weather_clust.Temp9am\n",
    "df_weather_clust['WindSpeedChange'] = df_weather_clust.WindSpeed3pm - df_weather_clust.WindSpeed9am\n",
    "df_weather_clust['HumidChange'] = df_weather_clust.Humidity3pm - df_weather_clust.Humidity9am"
   ]
  },
  {
   "cell_type": "code",
   "execution_count": 40,
   "metadata": {},
   "outputs": [],
   "source": [
    "df_weather_clust = df_weather_clust[['Location', 'MinTemp', 'MaxTemp', 'TempRange', 'TempChange', 'RainToday', 'Rainfall', \\\n",
    "                               'WindSpeed9am', 'WindSpeed3pm', 'WindSpeedChange', \\\n",
    "                               'Humidity9am', 'Humidity3pm', 'HumidChange', \\\n",
    "                               'Month']]"
   ]
  },
  {
   "cell_type": "code",
   "execution_count": 41,
   "metadata": {},
   "outputs": [
    {
     "data": {
      "text/html": [
       "<div>\n",
       "<style scoped>\n",
       "    .dataframe tbody tr th:only-of-type {\n",
       "        vertical-align: middle;\n",
       "    }\n",
       "\n",
       "    .dataframe tbody tr th {\n",
       "        vertical-align: top;\n",
       "    }\n",
       "\n",
       "    .dataframe thead th {\n",
       "        text-align: right;\n",
       "    }\n",
       "</style>\n",
       "<table border=\"1\" class=\"dataframe\">\n",
       "  <thead>\n",
       "    <tr style=\"text-align: right;\">\n",
       "      <th></th>\n",
       "      <th>Location</th>\n",
       "      <th>MinTemp</th>\n",
       "      <th>MaxTemp</th>\n",
       "      <th>TempRange</th>\n",
       "      <th>TempChange</th>\n",
       "      <th>RainToday</th>\n",
       "      <th>Rainfall</th>\n",
       "      <th>WindSpeed9am</th>\n",
       "      <th>WindSpeed3pm</th>\n",
       "      <th>WindSpeedChange</th>\n",
       "      <th>Humidity9am</th>\n",
       "      <th>Humidity3pm</th>\n",
       "      <th>HumidChange</th>\n",
       "      <th>Month</th>\n",
       "    </tr>\n",
       "  </thead>\n",
       "  <tbody>\n",
       "    <tr>\n",
       "      <th>0</th>\n",
       "      <td>Albury</td>\n",
       "      <td>13.4</td>\n",
       "      <td>22.9</td>\n",
       "      <td>9.5</td>\n",
       "      <td>4.9</td>\n",
       "      <td>0</td>\n",
       "      <td>0.6</td>\n",
       "      <td>20.0</td>\n",
       "      <td>24.0</td>\n",
       "      <td>4.0</td>\n",
       "      <td>71.0</td>\n",
       "      <td>22.0</td>\n",
       "      <td>-49.0</td>\n",
       "      <td>12</td>\n",
       "    </tr>\n",
       "    <tr>\n",
       "      <th>1</th>\n",
       "      <td>Albury</td>\n",
       "      <td>7.4</td>\n",
       "      <td>25.1</td>\n",
       "      <td>17.7</td>\n",
       "      <td>7.1</td>\n",
       "      <td>0</td>\n",
       "      <td>0.0</td>\n",
       "      <td>4.0</td>\n",
       "      <td>22.0</td>\n",
       "      <td>18.0</td>\n",
       "      <td>44.0</td>\n",
       "      <td>25.0</td>\n",
       "      <td>-19.0</td>\n",
       "      <td>12</td>\n",
       "    </tr>\n",
       "    <tr>\n",
       "      <th>2</th>\n",
       "      <td>Albury</td>\n",
       "      <td>12.9</td>\n",
       "      <td>25.7</td>\n",
       "      <td>12.8</td>\n",
       "      <td>2.2</td>\n",
       "      <td>0</td>\n",
       "      <td>0.0</td>\n",
       "      <td>19.0</td>\n",
       "      <td>26.0</td>\n",
       "      <td>7.0</td>\n",
       "      <td>38.0</td>\n",
       "      <td>30.0</td>\n",
       "      <td>-8.0</td>\n",
       "      <td>12</td>\n",
       "    </tr>\n",
       "    <tr>\n",
       "      <th>3</th>\n",
       "      <td>Albury</td>\n",
       "      <td>9.2</td>\n",
       "      <td>28.0</td>\n",
       "      <td>18.8</td>\n",
       "      <td>8.4</td>\n",
       "      <td>0</td>\n",
       "      <td>0.0</td>\n",
       "      <td>11.0</td>\n",
       "      <td>9.0</td>\n",
       "      <td>-2.0</td>\n",
       "      <td>45.0</td>\n",
       "      <td>16.0</td>\n",
       "      <td>-29.0</td>\n",
       "      <td>12</td>\n",
       "    </tr>\n",
       "    <tr>\n",
       "      <th>4</th>\n",
       "      <td>Albury</td>\n",
       "      <td>17.5</td>\n",
       "      <td>32.3</td>\n",
       "      <td>14.8</td>\n",
       "      <td>11.9</td>\n",
       "      <td>0</td>\n",
       "      <td>1.0</td>\n",
       "      <td>7.0</td>\n",
       "      <td>20.0</td>\n",
       "      <td>13.0</td>\n",
       "      <td>82.0</td>\n",
       "      <td>33.0</td>\n",
       "      <td>-49.0</td>\n",
       "      <td>12</td>\n",
       "    </tr>\n",
       "  </tbody>\n",
       "</table>\n",
       "</div>"
      ],
      "text/plain": [
       "  Location  MinTemp  MaxTemp  TempRange  TempChange  RainToday  Rainfall  \\\n",
       "0   Albury     13.4     22.9        9.5         4.9          0       0.6   \n",
       "1   Albury      7.4     25.1       17.7         7.1          0       0.0   \n",
       "2   Albury     12.9     25.7       12.8         2.2          0       0.0   \n",
       "3   Albury      9.2     28.0       18.8         8.4          0       0.0   \n",
       "4   Albury     17.5     32.3       14.8        11.9          0       1.0   \n",
       "\n",
       "   WindSpeed9am  WindSpeed3pm  WindSpeedChange  Humidity9am  Humidity3pm  \\\n",
       "0          20.0          24.0              4.0         71.0         22.0   \n",
       "1           4.0          22.0             18.0         44.0         25.0   \n",
       "2          19.0          26.0              7.0         38.0         30.0   \n",
       "3          11.0           9.0             -2.0         45.0         16.0   \n",
       "4           7.0          20.0             13.0         82.0         33.0   \n",
       "\n",
       "   HumidChange  Month  \n",
       "0        -49.0     12  \n",
       "1        -19.0     12  \n",
       "2         -8.0     12  \n",
       "3        -29.0     12  \n",
       "4        -49.0     12  "
      ]
     },
     "execution_count": 41,
     "metadata": {},
     "output_type": "execute_result"
    }
   ],
   "source": [
    "df_weather_clust.head()"
   ]
  },
  {
   "cell_type": "markdown",
   "metadata": {},
   "source": [
    "Then, for matching purpose, we need to group the data into 49 rows for each of the observation locations.\n",
    "\n",
    "It's genarally believed that if two cities close to each other have the similar climate, the weather in each of months will also be similar. Hence, we can create monthly features to make matching between observation stations more effectively. First, we group the data by `Location` and `Month`, to generate monthly data. Then, compute **mean** and **standard deviation** for each of the 12 features we already have. Finally, we get 12 (original features) * 12 (months) * 2 (mean & std) = 288 features. "
   ]
  },
  {
   "cell_type": "code",
   "execution_count": 42,
   "metadata": {
    "collapsed": true
   },
   "outputs": [
    {
     "name": "stderr",
     "output_type": "stream",
     "text": [
      "E:\\Anaconda\\lib\\site-packages\\numpy\\core\\fromnumeric.py:3438: FutureWarning: Dropping of nuisance columns in DataFrame reductions (with 'numeric_only=None') is deprecated; in a future version this will raise TypeError.  Select only valid columns before calling the reduction.\n",
      "  return mean(axis=axis, dtype=dtype, out=out, **kwargs)\n",
      "E:\\Anaconda\\lib\\site-packages\\numpy\\core\\fromnumeric.py:3579: FutureWarning: Dropping of nuisance columns in DataFrame reductions (with 'numeric_only=None') is deprecated; in a future version this will raise TypeError.  Select only valid columns before calling the reduction.\n",
      "  return std(axis=axis, dtype=dtype, out=out, ddof=ddof, **kwargs)\n"
     ]
    }
   ],
   "source": [
    "# group by and compute mean & std\n",
    "gb_mean = df_weather_clust.groupby(['Location', 'Month']).apply(np.mean).to_dict('index')\n",
    "gb_std = df_weather_clust.groupby(['Location', 'Month']).apply(np.std).to_dict('index')"
   ]
  },
  {
   "cell_type": "code",
   "execution_count": 43,
   "metadata": {},
   "outputs": [],
   "source": [
    "# convert data into the format we need\n",
    "d = {loc:{} for loc in df_weather_clust.Location.unique()}\n",
    "\n",
    "num_to_month = {1:'Jan', 2:'Feb', 3:'Mar', 4:'Apr', 5:'May', 6:'Jun', \\\n",
    "                7:'Jul', 8:'Aug', 9:'Sep', 10:'Oct', 11:'Nov', 12:'Dec'}\n",
    "\n",
    "for loc, month in gb_mean.keys():\n",
    "    items_mean = gb_mean[(loc, month)]\n",
    "    items_std = gb_std[(loc, month)]\n",
    "    for key in list(items_mean.keys())[:-1]:\n",
    "        d[loc][key + '_' + num_to_month[month] + '_mean'] = items_mean[key]\n",
    "        d[loc][key + '_' + num_to_month[month] + '_std'] = items_std[key]\n",
    "        \n",
    "df_weather_clust_loc = pd.DataFrame(d).T"
   ]
  },
  {
   "cell_type": "code",
   "execution_count": 44,
   "metadata": {},
   "outputs": [
    {
     "data": {
      "text/plain": [
       "(49, 288)"
      ]
     },
     "execution_count": 44,
     "metadata": {},
     "output_type": "execute_result"
    }
   ],
   "source": [
    "df_weather_clust_loc.shape"
   ]
  },
  {
   "cell_type": "code",
   "execution_count": 45,
   "metadata": {},
   "outputs": [],
   "source": [
    "# standardization\n",
    "ss_clust = StandardScaler()\n",
    "X_clust = ss_clust.fit_transform(df_weather_clust_loc)"
   ]
  },
  {
   "cell_type": "markdown",
   "metadata": {},
   "source": [
    "Finally, we create state/territory information columns as `y`."
   ]
  },
  {
   "cell_type": "code",
   "execution_count": 46,
   "metadata": {},
   "outputs": [],
   "source": [
    "y = np.array(['NSW'] * 18 + ['VIC'] * 10 + ['QLD'] * 4 + ['SA'] * 4 + ['WA'] * 7 + ['TAS'] * 2 + ['NT'] * 4)"
   ]
  },
  {
   "cell_type": "markdown",
   "metadata": {},
   "source": [
    "## 4.2 K-means clustering"
   ]
  },
  {
   "cell_type": "markdown",
   "metadata": {},
   "source": [
    "We search for the best number of clusters ranging from 2 to 12. Because of the considerable randomness of K-means method, we train models 30 times for each hyperparameter, and take the average **silhouette** score and **adjusted Rand score**."
   ]
  },
  {
   "cell_type": "code",
   "execution_count": 47,
   "metadata": {},
   "outputs": [],
   "source": [
    "silhouette_score_mean = []\n",
    "silhouette_score_std = []\n",
    "rand_score_mean = []\n",
    "rand_score_std = []"
   ]
  },
  {
   "cell_type": "code",
   "execution_count": 48,
   "metadata": {},
   "outputs": [
    {
     "name": "stderr",
     "output_type": "stream",
     "text": [
      "100%|██████████████████████████████████████████████████████████████████████████████████| 11/11 [00:14<00:00,  1.29s/it]\n"
     ]
    }
   ],
   "source": [
    "for n in tqdm.tqdm(range(2, 13)):\n",
    "    silhouette_score_n = []\n",
    "    rand_score_n = []\n",
    "    for i in range(30):\n",
    "        kmeans = KMeans(n_clusters=n, random_state=i*100)\n",
    "        kmeans.fit(X_clust)\n",
    "        silhouette_score_n.append(silhouette_score(X_clust, kmeans.labels_, metric='euclidean'))\n",
    "        rand_score_n.append(adjusted_rand_score(y, kmeans.labels_))\n",
    "        \n",
    "    silhouette_score_mean.append(np.mean(silhouette_score_n))\n",
    "    silhouette_score_std.append(np.std(silhouette_score_n))\n",
    "    rand_score_mean.append(np.mean(rand_score_n))\n",
    "    rand_score_std.append(np.std(rand_score_n))"
   ]
  },
  {
   "cell_type": "markdown",
   "metadata": {},
   "source": [
    "*Notes: Please directly turn to Section 4.4 to see the model evaluation.*"
   ]
  },
  {
   "cell_type": "markdown",
   "metadata": {},
   "source": [
    "## 4.3 Hierarchical clustering"
   ]
  },
  {
   "cell_type": "markdown",
   "metadata": {},
   "source": [
    "Hierarchical clustering is another traditional clustering method. We apply agglomerative clustering, one of the hierarchical clustering method using a bottom up approach, here. Similarly, we search for the best number of clusters ranging from 2 to 12."
   ]
  },
  {
   "cell_type": "code",
   "execution_count": 49,
   "metadata": {},
   "outputs": [],
   "source": [
    "silhouette_score_ac = []\n",
    "rand_score_ac = []"
   ]
  },
  {
   "cell_type": "code",
   "execution_count": 50,
   "metadata": {},
   "outputs": [],
   "source": [
    "for n in range(2, 13):\n",
    "    ac = AgglomerativeClustering(n_clusters=n)\n",
    "    ac.fit(X_clust)\n",
    "    silhouette_score_ac.append(silhouette_score(X_clust, ac.labels_, metric='euclidean'))\n",
    "    rand_score_ac.append(adjusted_rand_score(y, ac.labels_))"
   ]
  },
  {
   "cell_type": "markdown",
   "metadata": {},
   "source": [
    "*Notes: Please directly turn to Section 4.4 to see the model evaluation.*"
   ]
  },
  {
   "cell_type": "markdown",
   "metadata": {},
   "source": [
    "## 4.4 Model evaluation"
   ]
  },
  {
   "cell_type": "markdown",
   "metadata": {},
   "source": [
    "### 4.4.1 Adjusted Rand score"
   ]
  },
  {
   "cell_type": "markdown",
   "metadata": {},
   "source": [
    "Let's plot adjusted Rand scores vs. number of clusters for two unsupervised learning models."
   ]
  },
  {
   "cell_type": "code",
   "execution_count": 51,
   "metadata": {},
   "outputs": [
    {
     "data": {
      "image/png": "[encoded data removed]",
      "text/plain": [
       "<Figure size 576x288 with 1 Axes>"
      ]
     },
     "metadata": {},
     "output_type": "display_data"
    }
   ],
   "source": [
    "plt.figure(figsize=(8,4))\n",
    "plt.plot(np.arange(2, 13), rand_score_ac, marker='.')\n",
    "plt.errorbar(np.arange(2, 13), rand_score_mean, rand_score_std, elinewidth=1, capsize=3, marker='.')\n",
    "plt.xlabel('Number of clusters')\n",
    "plt.ylabel('Adjusted Rand score')\n",
    "plt.title('K-means vs. Hierarchical (Adjusted Rand score)')\n",
    "plt.legend(('Hierarchical', 'K-means'));"
   ]
  },
  {
   "cell_type": "markdown",
   "metadata": {},
   "source": [
    "**We can see from the plot that the hierarchical model is always better than the other one when the number of clusters is greater than 3.** The former one reaches the highest score when n equals to 9, while the latter one reaches the highest score when n equals to 7."
   ]
  },
  {
   "cell_type": "markdown",
   "metadata": {},
   "source": [
    "### 4.4.2 Silhouette score"
   ]
  },
  {
   "cell_type": "markdown",
   "metadata": {},
   "source": [
    "Let's plot silhouette scores vs. number of clusters for two unsupervised learning models."
   ]
  },
  {
   "cell_type": "code",
   "execution_count": 52,
   "metadata": {},
   "outputs": [
    {
     "data": {
      "image/png": "[encoded data removed]",
      "text/plain": [
       "<Figure size 576x288 with 1 Axes>"
      ]
     },
     "metadata": {},
     "output_type": "display_data"
    }
   ],
   "source": [
    "plt.figure(figsize=(8,4))\n",
    "plt.plot(np.arange(2, 13), silhouette_score_ac, marker='.')\n",
    "plt.errorbar(np.arange(2, 13), silhouette_score_mean, silhouette_score_std, elinewidth=1, capsize=3, marker='.')\n",
    "plt.xlabel('Number of clusters')\n",
    "plt.ylabel('Silhouette score')\n",
    "plt.title('K-means vs. Hierarchical (Silhouette score)')\n",
    "plt.legend(('Hierarchical', 'K-means'));"
   ]
  },
  {
   "cell_type": "markdown",
   "metadata": {},
   "source": [
    "**This plot shows similar results to the above one that K-means performs better when number of clusters is small, while Hierarchical clustering is the better choice when number of clusters increases.**\n",
    "\n",
    "Though the score reaches highest when *n* equals 2 for hierarchical model, we might consider the model with n equal to **7**, which is coincidentally the same as the number of true labels we set before, as a better one because of the trade-off between number of clusters and the score. "
   ]
  },
  {
   "cell_type": "markdown",
   "metadata": {},
   "source": [
    "## 4.5 Summary and further analysis"
   ]
  },
  {
   "cell_type": "markdown",
   "metadata": {},
   "source": [
    "The main evaluation results for both models are shown below:"
   ]
  },
  {
   "cell_type": "markdown",
   "metadata": {},
   "source": [
    "| Model name | Best adjusted Rand score | \"Best\" silhouette score* |\n",
    "| :---- | ----: | ----: |\n",
    "| K-means | 0.167 (*n* = 7) | **0.172** (*n* = 5) |\n",
    "| Hierarchical | **0.272** (*n* = 9) | 0.171 (*n* = 7) |\n",
    "\n",
    "*Notes: as explained before, the \"best\" score is not always the highest.*\n",
    "\n",
    "As shown in the table, under silhouette score, the difference of performance for these two models are not obvious; however, under adjusted Rand score, the Hierarchical model performs much better."
   ]
  },
  {
   "cell_type": "markdown",
   "metadata": {},
   "source": [
    "Let's take the Hierarchical model with *n* equal to 7 as an example, to see whether our clustering results make sense."
   ]
  },
  {
   "cell_type": "code",
   "execution_count": 53,
   "metadata": {
    "scrolled": false
   },
   "outputs": [
    {
     "name": "stdout",
     "output_type": "stream",
     "text": [
      "Cluster 1: \n",
      "Cobar, Moree, Mildura, Nhil, Nuriootpa, Woomera, PearceRAAF, PerthAirport, SalmonGums, AliceSprings, Uluru, \n",
      "\n",
      "Cluster 2: \n",
      "MountGinini, Ballarat, Sale, MelbourneAirport, Melbourne, Portland, Watsonia, Dartmoor, MountGambier, Hobart, \n",
      "\n",
      "Cluster 3: \n",
      "NorfolkIsland, Albany, Witchcliffe, Walpole, \n",
      "\n",
      "Cluster 4: \n",
      "Cairns, Townsville, Darwin, Katherine, \n",
      "\n",
      "Cluster 5: \n",
      "Albury, BadgerysCreek, Newcastle, Penrith, Richmond, WaggaWagga, Canberra, Tuggeranong, Bendigo, Launceston, \n",
      "\n",
      "Cluster 6: \n",
      "Brisbane, Adelaide, Perth, \n",
      "\n",
      "Cluster 7: \n",
      "CoffsHarbour, NorahHead, Sydney, SydneyAirport, Williamtown, Wollongong, GoldCoast, \n",
      "\n"
     ]
    }
   ],
   "source": [
    "# retrain the model\n",
    "ac = AgglomerativeClustering(n_clusters=7)\n",
    "ac.fit(X_clust)\n",
    "\n",
    "# print the results\n",
    "for i in range(7):\n",
    "    print(f'Cluster {i+1}: ')\n",
    "    for j in range(49):\n",
    "        if ac.labels_[j] == i:\n",
    "            print(df_weather_clust_loc.index[j], end=', ')\n",
    "    print('\\n')"
   ]
  },
  {
   "cell_type": "markdown",
   "metadata": {},
   "source": [
    "Here are some findings:\n",
    "\n",
    "* This model performs really well in distinguishing the weather in **Victoria** (7 of 10 locations in Cluster 2 are in Victoria State);\n",
    "\n",
    "* It is also doing well in distinguishing the weather near the capital, Canberra, in **New South Wales** and **Australian Capital Territory** (8 of 10 locations in Cluster 5 are in NSW or ACT, and we said before that these two areas can be treated as the same);\n",
    "\n",
    "* It clusters the three cities at the Southwest corner of **West Australia** in Cluster 3;\n",
    "\n",
    "* It performs so-so in distinguishing between **North Territory** and **Queensland** (Cluster 4 consist of 2 from NT and 2 from QLD, though these two areas are close to each other geometrically); \n",
    "\n",
    "* However, it seems that it is extremely confused about distinguishing the weather in **South Australia** and **Tasmania**.\n",
    "\n",
    "In conclusion, our model cannot match perfectly with previously set 7 divisions, but it is a good chance to learn to train clustering models!"
   ]
  }
 ],
 "metadata": {
  "kernelspec": {
   "display_name": "Python 3",
   "language": "python",
   "name": "python3"
  },
  "language_info": {
   "codemirror_mode": {
    "name": "ipython",
    "version": 3
   },
   "file_extension": ".py",
   "mimetype": "text/x-python",
   "name": "python",
   "nbconvert_exporter": "python",
   "pygments_lexer": "ipython3",
   "version": "3.8.3"
  }
 },
 "nbformat": 4,
 "nbformat_minor": 4
}
